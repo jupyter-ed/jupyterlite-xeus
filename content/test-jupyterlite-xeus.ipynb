{
  "metadata": {
    "kernelspec": {
      "name": "xpython",
      "display_name": "Python 3.11 (XPython)",
      "language": "python"
    },
    "language_info": {
      "file_extension": ".py",
      "mimetype": "text/x-python",
      "name": "python",
      "version": "3.11.3"
    }
  },
  "nbformat_minor": 4,
  "nbformat": 4,
  "cells": [
    {
      "cell_type": "code",
      "source": "import this",
      "metadata": {
        "trusted": true
      },
      "outputs": [
        {
          "name": "stdout",
          "text": "The Zen of Python, by Tim Peters\n\nBeautiful is better than ugly.\nExplicit is better than implicit.\nSimple is better than complex.\nComplex is better than complicated.\nFlat is better than nested.\nSparse is better than dense.\nReadability counts.\nSpecial cases aren't special enough to break the rules.\nAlthough practicality beats purity.\nErrors should never pass silently.\nUnless explicitly silenced.\nIn the face of ambiguity, refuse the temptation to guess.\nThere should be one-- and preferably only one --obvious way to do it.\nAlthough that way may not be obvious at first unless you're Dutch.\nNow is better than never.\nAlthough never is often better than *right* now.\nIf the implementation is hard to explain, it's a bad idea.\nIf the implementation is easy to explain, it may be a good idea.\nNamespaces are one honking great idea -- let's do more of those!\n",
          "output_type": "stream"
        }
      ],
      "execution_count": 1
    },
    {
      "cell_type": "code",
      "source": "from math import pi\n\nfrom ipycanvas import Canvas\n\ncanvas = Canvas(width=1600, height=1200, layout=dict(width=\"100%\"))\n\ncanvas.fill_style = \"#8ee05e\"\ncanvas.fill_rect(0, 0, canvas.width, canvas.height)\n\ncanvas.fill_style = \"#f5f533\"\ncanvas.fill_circle(canvas.width / 2.0, canvas.height / 2.0, 500)\n\ncanvas.stroke_style = \"black\"\ncanvas.line_width = 30\ncanvas.stroke_circle(canvas.width / 2.0, canvas.height / 2.0, 500)\n\ncanvas.fill_style = \"black\"\ncanvas.fill_circle(canvas.width / 2.7, canvas.height / 3.0, 100)  # Right eye\ncanvas.stroke_arc(canvas.width / 2.0, canvas.height / 2.0, 400, 0, pi, False)  # Mouth\ncanvas.stroke_arc(\n    canvas.width - canvas.width / 2.7, canvas.height / 2.7, 100, 0, pi, True\n)  # Left eye\n\ncanvas",
      "metadata": {
        "trusted": true
      },
      "outputs": [
        {
          "execution_count": 2,
          "output_type": "execute_result",
          "data": {
            "application/vnd.jupyter.widget-view+json": {
              "model_id": "8ef28260bb9b4e948c265fe7e0d3ecb4",
              "version_major": 2,
              "version_minor": 0
            },
            "text/plain": "Canvas(height=1200, layout=Layout(width='100%'), width=1600)"
          },
          "metadata": {}
        }
      ],
      "execution_count": 2
    },
    {
      "cell_type": "code",
      "source": "import numpy as np\nforceA = np.array([1, 0, 0])\nforceB = np.array([0, 1, 0])\nprint(\"Force A =\", forceA)\nprint(\"Force B =\", forceB)",
      "metadata": {
        "trusted": true
      },
      "outputs": [
        {
          "name": "stdout",
          "text": "Force A = [1 0 0]\nForce B = [0 1 0]\n",
          "output_type": "stream"
        }
      ],
      "execution_count": 3
    },
    {
      "cell_type": "code",
      "source": "\nfrom ipywidgets import AppLayout, FloatSlider\n%matplotlib widget\nimport matplotlib.pyplot as plt\nimport numpy as np\nplt.ioff()\n\nslider = FloatSlider(\n    orientation='horizontal',\n    description='Factor:',\n    value=1.0,\n    min=0.02,\n    max=2.0\n)\n\nslider.layout.margin = '0px 30% 0px 30%'\nslider.layout.width = '40%'\n\nfig = plt.figure()\nfig.canvas.header_visible = False\nfig.canvas.layout.min_height = '400px'\nplt.title('Plotting: y=sin({} * x)'.format(slider.value))\n\nx = np.linspace(0, 20, 500)\n\nlines = plt.plot(x, np.sin(slider.value * x))\n\ndef update_lines(change):\n    plt.title('Plotting: y=sin({} * x)'.format(change.new))\n    lines[0].set_data(x, np.sin(change.new * x))\n    fig.canvas.draw()\n    fig.canvas.flush_events()\n\nslider.observe(update_lines, names='value')\n\nAppLayout(\n    center=fig.canvas,\n    footer=slider,\n    pane_heights=[0, 6, 1]\n)",
      "metadata": {
        "trusted": true
      },
      "outputs": [
        {
          "execution_count": 7,
          "output_type": "execute_result",
          "data": {
            "application/vnd.jupyter.widget-view+json": {
              "model_id": "0b421c4c10bf4bddaecfa5e2e249b817",
              "version_major": 2,
              "version_minor": 0
            },
            "text/plain": "AppLayout(children=(FloatSlider(value=1.0, description='Factor:', layout=Layout(grid_area='footer', margin='0p…"
          },
          "metadata": {}
        }
      ],
      "execution_count": 7
    },
    {
      "cell_type": "code",
      "source": "",
      "metadata": {
        "trusted": true
      },
      "outputs": [],
      "execution_count": null
    }
  ]
}